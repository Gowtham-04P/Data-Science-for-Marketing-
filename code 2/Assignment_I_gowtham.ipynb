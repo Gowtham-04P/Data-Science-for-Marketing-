{
  "cells": [
    {
      "cell_type": "code",
      "execution_count": 1,
      "metadata": {
        "id": "y6ucyU8rK5BZ"
      },
      "outputs": [],
      "source": [
        "#%matplotlib inline\n"
      ]
    },
    {
      "cell_type": "code",
      "execution_count": 2,
      "metadata": {
        "id": "V3aJkQq1LAbn"
      },
      "outputs": [],
      "source": [
        "import matplotlib.pyplot as plt\n",
        "import pandas as pd\n",
        "from datetime import datetime, timedelta"
      ]
    },
    {
      "cell_type": "markdown",
      "metadata": {
        "id": "GthJoaPtLEf_"
      },
      "source": [
        "1. Load Data--Create a simulated dataset with the above fields for at least 10 customers."
      ]
    },
    {
      "cell_type": "code",
      "execution_count": 3,
      "metadata": {
        "id": "6IrAWwyILB6v"
      },
      "outputs": [],
      "source": [
        "data = {\n",
        "    \"CustomerID\": [1, 2, 3, 4, 5, 6, 7, 8, 9, 10],\n",
        "    \"Name\": [\"Alice\", \"Bob\", \"Cathy\", \"David\", \"Eva\", \"Frank\", \"Grace\", \"Henry\", \"Ivy\", \"Jack\"],\n",
        "    \"Email\": [\"alice@example.com\", \"bob@example.com\", \"cathy@example.com\", \"david@example.com\",\n",
        "              \"eva@example.com\", \"frank@example.com\", \"grace@example.com\", \"henry@example.com\",\n",
        "              \"ivy@example.com\", \"jack@example.com\"],\n",
        "    \"Gender\": [\"Female\", \"Male\", \"Female\", \"Male\", \"Female\", \"Male\", \"Female\", \"Male\", \"Female\", \"Male\"],\n",
        "    \"Age\": [25, 34, 22, 45, 35, 32, 27, 28, 29, 31],\n",
        "    \"ProductPurchased\": [\"Laptop\", \"Novel\", \"Dress\", \"Smartphone\", \"Cookware\", \"T-Shirt\", \"Headphones\",\n",
        "                         \"Sneakers\", \"Coffee Maker\", \"Tablet\"],\n",
        "    \"ProductCategory\": [\"Electronics\", \"Books\", \"Clothing\", \"Electronics\", \"Home\", \"Clothing\",\n",
        "                        \"Electronics\", \"Clothing\", \"Home\", \"Electronics\"],\n",
        "    \"PurchaseAmount\": [1200, 15, 45, 900, 200, 25, 100, 80, 150, 600],\n",
        "    \"LastPurchaseDate\": [datetime.now() - timedelta(days=5),\n",
        "                         datetime.now() - timedelta(days=45),\n",
        "                         datetime.now() - timedelta(days=15),\n",
        "                         datetime.now() - timedelta(days=20),\n",
        "                         datetime.now() - timedelta(days=60),\n",
        "                         datetime.now() - timedelta(days=2),\n",
        "                         datetime.now() - timedelta(days=100),\n",
        "                         datetime.now() - timedelta(days=8),\n",
        "                         datetime.now() - timedelta(days=3),\n",
        "                         datetime.now() - timedelta(days=50)]\n",
        "}"
      ]
    },
    {
      "cell_type": "code",
      "execution_count": 4,
      "metadata": {},
      "outputs": [
        {
          "data": {
            "text/html": [
              "<div>\n",
              "<style scoped>\n",
              "    .dataframe tbody tr th:only-of-type {\n",
              "        vertical-align: middle;\n",
              "    }\n",
              "\n",
              "    .dataframe tbody tr th {\n",
              "        vertical-align: top;\n",
              "    }\n",
              "\n",
              "    .dataframe thead th {\n",
              "        text-align: right;\n",
              "    }\n",
              "</style>\n",
              "<table border=\"1\" class=\"dataframe\">\n",
              "  <thead>\n",
              "    <tr style=\"text-align: right;\">\n",
              "      <th></th>\n",
              "      <th>CustomerID</th>\n",
              "      <th>Name</th>\n",
              "      <th>Email</th>\n",
              "      <th>Gender</th>\n",
              "      <th>Age</th>\n",
              "      <th>ProductPurchased</th>\n",
              "      <th>ProductCategory</th>\n",
              "      <th>PurchaseAmount</th>\n",
              "      <th>LastPurchaseDate</th>\n",
              "    </tr>\n",
              "  </thead>\n",
              "  <tbody>\n",
              "    <tr>\n",
              "      <th>0</th>\n",
              "      <td>1</td>\n",
              "      <td>Alice</td>\n",
              "      <td>alice@example.com</td>\n",
              "      <td>Female</td>\n",
              "      <td>25</td>\n",
              "      <td>Laptop</td>\n",
              "      <td>Electronics</td>\n",
              "      <td>1200</td>\n",
              "      <td>2025-02-09 17:52:52.916716</td>\n",
              "    </tr>\n",
              "    <tr>\n",
              "      <th>1</th>\n",
              "      <td>2</td>\n",
              "      <td>Bob</td>\n",
              "      <td>bob@example.com</td>\n",
              "      <td>Male</td>\n",
              "      <td>34</td>\n",
              "      <td>Novel</td>\n",
              "      <td>Books</td>\n",
              "      <td>15</td>\n",
              "      <td>2024-12-31 17:52:52.916727</td>\n",
              "    </tr>\n",
              "    <tr>\n",
              "      <th>2</th>\n",
              "      <td>3</td>\n",
              "      <td>Cathy</td>\n",
              "      <td>cathy@example.com</td>\n",
              "      <td>Female</td>\n",
              "      <td>22</td>\n",
              "      <td>Dress</td>\n",
              "      <td>Clothing</td>\n",
              "      <td>45</td>\n",
              "      <td>2025-01-30 17:52:52.916729</td>\n",
              "    </tr>\n",
              "    <tr>\n",
              "      <th>3</th>\n",
              "      <td>4</td>\n",
              "      <td>David</td>\n",
              "      <td>david@example.com</td>\n",
              "      <td>Male</td>\n",
              "      <td>45</td>\n",
              "      <td>Smartphone</td>\n",
              "      <td>Electronics</td>\n",
              "      <td>900</td>\n",
              "      <td>2025-01-25 17:52:52.916731</td>\n",
              "    </tr>\n",
              "    <tr>\n",
              "      <th>4</th>\n",
              "      <td>5</td>\n",
              "      <td>Eva</td>\n",
              "      <td>eva@example.com</td>\n",
              "      <td>Female</td>\n",
              "      <td>35</td>\n",
              "      <td>Cookware</td>\n",
              "      <td>Home</td>\n",
              "      <td>200</td>\n",
              "      <td>2024-12-16 17:52:52.916732</td>\n",
              "    </tr>\n",
              "    <tr>\n",
              "      <th>5</th>\n",
              "      <td>6</td>\n",
              "      <td>Frank</td>\n",
              "      <td>frank@example.com</td>\n",
              "      <td>Male</td>\n",
              "      <td>32</td>\n",
              "      <td>T-Shirt</td>\n",
              "      <td>Clothing</td>\n",
              "      <td>25</td>\n",
              "      <td>2025-02-12 17:52:52.916733</td>\n",
              "    </tr>\n",
              "    <tr>\n",
              "      <th>6</th>\n",
              "      <td>7</td>\n",
              "      <td>Grace</td>\n",
              "      <td>grace@example.com</td>\n",
              "      <td>Female</td>\n",
              "      <td>27</td>\n",
              "      <td>Headphones</td>\n",
              "      <td>Electronics</td>\n",
              "      <td>100</td>\n",
              "      <td>2024-11-06 17:52:52.916734</td>\n",
              "    </tr>\n",
              "    <tr>\n",
              "      <th>7</th>\n",
              "      <td>8</td>\n",
              "      <td>Henry</td>\n",
              "      <td>henry@example.com</td>\n",
              "      <td>Male</td>\n",
              "      <td>28</td>\n",
              "      <td>Sneakers</td>\n",
              "      <td>Clothing</td>\n",
              "      <td>80</td>\n",
              "      <td>2025-02-06 17:52:52.916735</td>\n",
              "    </tr>\n",
              "    <tr>\n",
              "      <th>8</th>\n",
              "      <td>9</td>\n",
              "      <td>Ivy</td>\n",
              "      <td>ivy@example.com</td>\n",
              "      <td>Female</td>\n",
              "      <td>29</td>\n",
              "      <td>Coffee Maker</td>\n",
              "      <td>Home</td>\n",
              "      <td>150</td>\n",
              "      <td>2025-02-11 17:52:52.916736</td>\n",
              "    </tr>\n",
              "    <tr>\n",
              "      <th>9</th>\n",
              "      <td>10</td>\n",
              "      <td>Jack</td>\n",
              "      <td>jack@example.com</td>\n",
              "      <td>Male</td>\n",
              "      <td>31</td>\n",
              "      <td>Tablet</td>\n",
              "      <td>Electronics</td>\n",
              "      <td>600</td>\n",
              "      <td>2024-12-26 17:52:52.916737</td>\n",
              "    </tr>\n",
              "  </tbody>\n",
              "</table>\n",
              "</div>"
            ],
            "text/plain": [
              "   CustomerID   Name              Email  Gender  Age ProductPurchased  \\\n",
              "0           1  Alice  alice@example.com  Female   25           Laptop   \n",
              "1           2    Bob    bob@example.com    Male   34            Novel   \n",
              "2           3  Cathy  cathy@example.com  Female   22            Dress   \n",
              "3           4  David  david@example.com    Male   45       Smartphone   \n",
              "4           5    Eva    eva@example.com  Female   35         Cookware   \n",
              "5           6  Frank  frank@example.com    Male   32          T-Shirt   \n",
              "6           7  Grace  grace@example.com  Female   27       Headphones   \n",
              "7           8  Henry  henry@example.com    Male   28         Sneakers   \n",
              "8           9    Ivy    ivy@example.com  Female   29     Coffee Maker   \n",
              "9          10   Jack   jack@example.com    Male   31           Tablet   \n",
              "\n",
              "  ProductCategory  PurchaseAmount           LastPurchaseDate  \n",
              "0     Electronics            1200 2025-02-09 17:52:52.916716  \n",
              "1           Books              15 2024-12-31 17:52:52.916727  \n",
              "2        Clothing              45 2025-01-30 17:52:52.916729  \n",
              "3     Electronics             900 2025-01-25 17:52:52.916731  \n",
              "4            Home             200 2024-12-16 17:52:52.916732  \n",
              "5        Clothing              25 2025-02-12 17:52:52.916733  \n",
              "6     Electronics             100 2024-11-06 17:52:52.916734  \n",
              "7        Clothing              80 2025-02-06 17:52:52.916735  \n",
              "8            Home             150 2025-02-11 17:52:52.916736  \n",
              "9     Electronics             600 2024-12-26 17:52:52.916737  "
            ]
          },
          "execution_count": 4,
          "metadata": {},
          "output_type": "execute_result"
        }
      ],
      "source": [
        "df = pd.DataFrame(data)\n",
        "df"
      ]
    },
    {
      "cell_type": "markdown",
      "metadata": {
        "id": "TaabiF2qL2v4"
      },
      "source": [
        "Q1. : \n",
        "## Find Customers who have spent more than $100 in their last purchase.**"
      ]
    },
    {
      "cell_type": "code",
      "execution_count": 5,
      "metadata": {
        "id": "ayxaM5w2L6Gv"
      },
      "outputs": [
        {
          "data": {
            "text/html": [
              "<div>\n",
              "<style scoped>\n",
              "    .dataframe tbody tr th:only-of-type {\n",
              "        vertical-align: middle;\n",
              "    }\n",
              "\n",
              "    .dataframe tbody tr th {\n",
              "        vertical-align: top;\n",
              "    }\n",
              "\n",
              "    .dataframe thead th {\n",
              "        text-align: right;\n",
              "    }\n",
              "</style>\n",
              "<table border=\"1\" class=\"dataframe\">\n",
              "  <thead>\n",
              "    <tr style=\"text-align: right;\">\n",
              "      <th></th>\n",
              "      <th>CustomerID</th>\n",
              "      <th>Name</th>\n",
              "      <th>Email</th>\n",
              "      <th>Gender</th>\n",
              "      <th>Age</th>\n",
              "      <th>ProductPurchased</th>\n",
              "      <th>ProductCategory</th>\n",
              "      <th>PurchaseAmount</th>\n",
              "      <th>LastPurchaseDate</th>\n",
              "    </tr>\n",
              "  </thead>\n",
              "  <tbody>\n",
              "    <tr>\n",
              "      <th>0</th>\n",
              "      <td>1</td>\n",
              "      <td>Alice</td>\n",
              "      <td>alice@example.com</td>\n",
              "      <td>Female</td>\n",
              "      <td>25</td>\n",
              "      <td>Laptop</td>\n",
              "      <td>Electronics</td>\n",
              "      <td>1200</td>\n",
              "      <td>2025-02-09 17:52:52.916716</td>\n",
              "    </tr>\n",
              "    <tr>\n",
              "      <th>3</th>\n",
              "      <td>4</td>\n",
              "      <td>David</td>\n",
              "      <td>david@example.com</td>\n",
              "      <td>Male</td>\n",
              "      <td>45</td>\n",
              "      <td>Smartphone</td>\n",
              "      <td>Electronics</td>\n",
              "      <td>900</td>\n",
              "      <td>2025-01-25 17:52:52.916731</td>\n",
              "    </tr>\n",
              "    <tr>\n",
              "      <th>4</th>\n",
              "      <td>5</td>\n",
              "      <td>Eva</td>\n",
              "      <td>eva@example.com</td>\n",
              "      <td>Female</td>\n",
              "      <td>35</td>\n",
              "      <td>Cookware</td>\n",
              "      <td>Home</td>\n",
              "      <td>200</td>\n",
              "      <td>2024-12-16 17:52:52.916732</td>\n",
              "    </tr>\n",
              "    <tr>\n",
              "      <th>8</th>\n",
              "      <td>9</td>\n",
              "      <td>Ivy</td>\n",
              "      <td>ivy@example.com</td>\n",
              "      <td>Female</td>\n",
              "      <td>29</td>\n",
              "      <td>Coffee Maker</td>\n",
              "      <td>Home</td>\n",
              "      <td>150</td>\n",
              "      <td>2025-02-11 17:52:52.916736</td>\n",
              "    </tr>\n",
              "    <tr>\n",
              "      <th>9</th>\n",
              "      <td>10</td>\n",
              "      <td>Jack</td>\n",
              "      <td>jack@example.com</td>\n",
              "      <td>Male</td>\n",
              "      <td>31</td>\n",
              "      <td>Tablet</td>\n",
              "      <td>Electronics</td>\n",
              "      <td>600</td>\n",
              "      <td>2024-12-26 17:52:52.916737</td>\n",
              "    </tr>\n",
              "  </tbody>\n",
              "</table>\n",
              "</div>"
            ],
            "text/plain": [
              "   CustomerID   Name              Email  Gender  Age ProductPurchased  \\\n",
              "0           1  Alice  alice@example.com  Female   25           Laptop   \n",
              "3           4  David  david@example.com    Male   45       Smartphone   \n",
              "4           5    Eva    eva@example.com  Female   35         Cookware   \n",
              "8           9    Ivy    ivy@example.com  Female   29     Coffee Maker   \n",
              "9          10   Jack   jack@example.com    Male   31           Tablet   \n",
              "\n",
              "  ProductCategory  PurchaseAmount           LastPurchaseDate  \n",
              "0     Electronics            1200 2025-02-09 17:52:52.916716  \n",
              "3     Electronics             900 2025-01-25 17:52:52.916731  \n",
              "4            Home             200 2024-12-16 17:52:52.916732  \n",
              "8            Home             150 2025-02-11 17:52:52.916736  \n",
              "9     Electronics             600 2024-12-26 17:52:52.916737  "
            ]
          },
          "execution_count": 5,
          "metadata": {},
          "output_type": "execute_result"
        }
      ],
      "source": [
        "high_spenders = df[df[\"PurchaseAmount\"] > 100]\n",
        "high_spenders"
      ]
    },
    {
      "cell_type": "markdown",
      "metadata": {},
      "source": [
        "There are 6 customer last purchase above the 100."
      ]
    },
    {
      "cell_type": "markdown",
      "metadata": {
        "id": "r1U_Iil4L6eG"
      },
      "source": [
        "**Q2: Find Customers who made a purchase in the last 30 days.**"
      ]
    },
    {
      "cell_type": "code",
      "execution_count": 11,
      "metadata": {
        "id": "8ME5qUaHMBt-"
      },
      "outputs": [],
      "source": [
        "thirty_days = datetime.now() - timedelta(days=30)"
      ]
    },
    {
      "cell_type": "code",
      "execution_count": 12,
      "metadata": {},
      "outputs": [
        {
          "data": {
            "text/html": [
              "<div>\n",
              "<style scoped>\n",
              "    .dataframe tbody tr th:only-of-type {\n",
              "        vertical-align: middle;\n",
              "    }\n",
              "\n",
              "    .dataframe tbody tr th {\n",
              "        vertical-align: top;\n",
              "    }\n",
              "\n",
              "    .dataframe thead th {\n",
              "        text-align: right;\n",
              "    }\n",
              "</style>\n",
              "<table border=\"1\" class=\"dataframe\">\n",
              "  <thead>\n",
              "    <tr style=\"text-align: right;\">\n",
              "      <th></th>\n",
              "      <th>CustomerID</th>\n",
              "      <th>Name</th>\n",
              "      <th>Email</th>\n",
              "      <th>Gender</th>\n",
              "      <th>Age</th>\n",
              "      <th>ProductPurchased</th>\n",
              "      <th>ProductCategory</th>\n",
              "      <th>PurchaseAmount</th>\n",
              "      <th>LastPurchaseDate</th>\n",
              "    </tr>\n",
              "  </thead>\n",
              "  <tbody>\n",
              "    <tr>\n",
              "      <th>0</th>\n",
              "      <td>1</td>\n",
              "      <td>Alice</td>\n",
              "      <td>alice@example.com</td>\n",
              "      <td>Female</td>\n",
              "      <td>25</td>\n",
              "      <td>Laptop</td>\n",
              "      <td>Electronics</td>\n",
              "      <td>1200</td>\n",
              "      <td>2025-02-09 17:52:52.916716</td>\n",
              "    </tr>\n",
              "    <tr>\n",
              "      <th>2</th>\n",
              "      <td>3</td>\n",
              "      <td>Cathy</td>\n",
              "      <td>cathy@example.com</td>\n",
              "      <td>Female</td>\n",
              "      <td>22</td>\n",
              "      <td>Dress</td>\n",
              "      <td>Clothing</td>\n",
              "      <td>45</td>\n",
              "      <td>2025-01-30 17:52:52.916729</td>\n",
              "    </tr>\n",
              "    <tr>\n",
              "      <th>3</th>\n",
              "      <td>4</td>\n",
              "      <td>David</td>\n",
              "      <td>david@example.com</td>\n",
              "      <td>Male</td>\n",
              "      <td>45</td>\n",
              "      <td>Smartphone</td>\n",
              "      <td>Electronics</td>\n",
              "      <td>900</td>\n",
              "      <td>2025-01-25 17:52:52.916731</td>\n",
              "    </tr>\n",
              "    <tr>\n",
              "      <th>5</th>\n",
              "      <td>6</td>\n",
              "      <td>Frank</td>\n",
              "      <td>frank@example.com</td>\n",
              "      <td>Male</td>\n",
              "      <td>32</td>\n",
              "      <td>T-Shirt</td>\n",
              "      <td>Clothing</td>\n",
              "      <td>25</td>\n",
              "      <td>2025-02-12 17:52:52.916733</td>\n",
              "    </tr>\n",
              "    <tr>\n",
              "      <th>7</th>\n",
              "      <td>8</td>\n",
              "      <td>Henry</td>\n",
              "      <td>henry@example.com</td>\n",
              "      <td>Male</td>\n",
              "      <td>28</td>\n",
              "      <td>Sneakers</td>\n",
              "      <td>Clothing</td>\n",
              "      <td>80</td>\n",
              "      <td>2025-02-06 17:52:52.916735</td>\n",
              "    </tr>\n",
              "    <tr>\n",
              "      <th>8</th>\n",
              "      <td>9</td>\n",
              "      <td>Ivy</td>\n",
              "      <td>ivy@example.com</td>\n",
              "      <td>Female</td>\n",
              "      <td>29</td>\n",
              "      <td>Coffee Maker</td>\n",
              "      <td>Home</td>\n",
              "      <td>150</td>\n",
              "      <td>2025-02-11 17:52:52.916736</td>\n",
              "    </tr>\n",
              "  </tbody>\n",
              "</table>\n",
              "</div>"
            ],
            "text/plain": [
              "   CustomerID   Name              Email  Gender  Age ProductPurchased  \\\n",
              "0           1  Alice  alice@example.com  Female   25           Laptop   \n",
              "2           3  Cathy  cathy@example.com  Female   22            Dress   \n",
              "3           4  David  david@example.com    Male   45       Smartphone   \n",
              "5           6  Frank  frank@example.com    Male   32          T-Shirt   \n",
              "7           8  Henry  henry@example.com    Male   28         Sneakers   \n",
              "8           9    Ivy    ivy@example.com  Female   29     Coffee Maker   \n",
              "\n",
              "  ProductCategory  PurchaseAmount           LastPurchaseDate  \n",
              "0     Electronics            1200 2025-02-09 17:52:52.916716  \n",
              "2        Clothing              45 2025-01-30 17:52:52.916729  \n",
              "3     Electronics             900 2025-01-25 17:52:52.916731  \n",
              "5        Clothing              25 2025-02-12 17:52:52.916733  \n",
              "7        Clothing              80 2025-02-06 17:52:52.916735  \n",
              "8            Home             150 2025-02-11 17:52:52.916736  "
            ]
          },
          "execution_count": 12,
          "metadata": {},
          "output_type": "execute_result"
        }
      ],
      "source": [
        "recent_customers = df[df[\"LastPurchaseDate\"] >= thirty_days]\n",
        "recent_customers"
      ]
    },
    {
      "cell_type": "markdown",
      "metadata": {},
      "source": [
        "Alice, cathy,david,frank,henry,ivy those customers made a purchase in the last 30 days "
      ]
    },
    {
      "cell_type": "markdown",
      "metadata": {
        "id": "6IJOV-iCMHtm"
      },
      "source": [
        "**Q3:Segment customers by the category of their last purchase.**"
      ]
    },
    {
      "cell_type": "code",
      "execution_count": 8,
      "metadata": {
        "id": "-Dln-QLwMkFm"
      },
      "outputs": [],
      "source": [
        "category_segments = df.groupby(\"ProductCategory\")[[\"CustomerID\", \"Name\", \"ProductPurchased\", \"PurchaseAmount\"]]"
      ]
    },
    {
      "cell_type": "code",
      "execution_count": 9,
      "metadata": {},
      "outputs": [
        {
          "name": "stdout",
          "output_type": "stream",
          "text": [
            "Category: Books\n",
            "   CustomerID Name ProductPurchased  PurchaseAmount\n",
            "1           2  Bob            Novel              15 \n",
            "\n",
            "Category: Clothing\n",
            "   CustomerID   Name ProductPurchased  PurchaseAmount\n",
            "2           3  Cathy            Dress              45\n",
            "5           6  Frank          T-Shirt              25\n",
            "7           8  Henry         Sneakers              80 \n",
            "\n",
            "Category: Electronics\n",
            "   CustomerID   Name ProductPurchased  PurchaseAmount\n",
            "0           1  Alice           Laptop            1200\n",
            "3           4  David       Smartphone             900\n",
            "6           7  Grace       Headphones             100\n",
            "9          10   Jack           Tablet             600 \n",
            "\n",
            "Category: Home\n",
            "   CustomerID Name ProductPurchased  PurchaseAmount\n",
            "4           5  Eva         Cookware             200\n",
            "8           9  Ivy     Coffee Maker             150 \n",
            "\n"
          ]
        }
      ],
      "source": [
        "for category, group in category_segments:\n",
        "    print(f\"Category: {category}\")\n",
        "    print(group, \"\\n\")"
      ]
    },
    {
      "cell_type": "markdown",
      "metadata": {},
      "source": [
        "Customers are grouped based on the category of their last purchase."
      ]
    }
  ],
  "metadata": {
    "colab": {
      "provenance": []
    },
    "kernelspec": {
      "display_name": "Python 3",
      "name": "python3"
    },
    "language_info": {
      "codemirror_mode": {
        "name": "ipython",
        "version": 3
      },
      "file_extension": ".py",
      "mimetype": "text/x-python",
      "name": "python",
      "nbconvert_exporter": "python",
      "pygments_lexer": "ipython3",
      "version": "3.13.1"
    }
  },
  "nbformat": 4,
  "nbformat_minor": 0
}
